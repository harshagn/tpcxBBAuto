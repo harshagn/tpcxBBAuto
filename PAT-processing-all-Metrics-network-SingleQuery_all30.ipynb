{
 "cells": [
  {
   "cell_type": "markdown",
   "metadata": {},
   "source": [
    "### Download Required packages"
   ]
  },
  {
   "cell_type": "code",
   "execution_count": 14,
   "metadata": {},
   "outputs": [],
   "source": [
    "import glob\n",
    "import csv\n",
    "import pandas\n",
    "import numpy\n",
    "import matplotlib\n",
    "import seaborn\n",
    "import scipy\n",
    "import sklearn\n",
    "from collections import OrderedDict"
   ]
  },
  {
   "cell_type": "code",
   "execution_count": 15,
   "metadata": {},
   "outputs": [],
   "source": [
    "from pydoc import help  # can type in the python console `help(name of function)` to get the documentation\n",
    "import pandas as pd\n",
    "import numpy as np\n",
    "import matplotlib.pyplot as plt\n",
    "import seaborn as sns\n",
    "from sklearn.preprocessing import scale\n",
    "from scipy import stats\n",
    "from IPython.display import display, HTML\n",
    "\n",
    "# figures inline in notebook\n",
    "%matplotlib inline\n",
    "\n",
    "np.set_printoptions(suppress=True)\n",
    "\n",
    "DISPLAY_MAX_ROWS = 20  # number of max rows to print for a DataFrame\n",
    "pd.set_option('display.max_rows', DISPLAY_MAX_ROWS)"
   ]
  },
  {
   "cell_type": "code",
   "execution_count": 16,
   "metadata": {},
   "outputs": [],
   "source": [
    "def filenameGen(name):\n",
    "    val= name.split(\"---\")[0]\n",
    "    filename = val.split(\"/\")[4]\n",
    "    return filename"
   ]
  },
  {
   "cell_type": "code",
   "execution_count": 17,
   "metadata": {},
   "outputs": [],
   "source": [
    "#def processDf(df):\n",
    "def processDf(df,metric):\n",
    "    df=df[~(df[\"rxpck/s\"] == \"rxpck/s\")]\n",
    "    #df.drop([\"AM\"],inplace=True,axis=1)\n",
    "    #df.drop_duplicates(subset =\"rxpck/s\", keep = False, inplace =True)\n",
    "    #df.drop([\"AM\"],inplace=True,axis=1)\n",
    "    \n",
    "    cols = df.columns\n",
    "    colstr = ['HostName', 'TimeStamp', 'IFACE', 'AM','PM','PM.1','PM.2', 'AM',  'AM.1','AM.2']\n",
    "    for coln in cols:\n",
    "        if coln in colstr:\n",
    "            df[coln] = df[coln].astype(str)\n",
    "        else:\n",
    "            df.dropna(axis=0, inplace=True)\n",
    "            df[coln] = df[coln].astype(str).astype(float)\n",
    "    #BKP resDf = df[['%user', '%nice', '%system', \"%iowait\",\"%steal\",\"%idle\",\"usrSys\"]].describe(include='all')\n",
    "    resDf = df[['rxkB/s', 'txkB/s']].describe(include='all')\n",
    "    #resDf = df.groupby('HostName').agg([np.mean, np.min , np.max, np.std, np.median])\n",
    "    \n",
    "    #return resDf\n",
    "    return resDf.loc[metric]"
   ]
  },
  {
   "cell_type": "code",
   "execution_count": 18,
   "metadata": {},
   "outputs": [
    {
     "name": "stdout",
     "output_type": "stream",
     "text": [
      "SingleQuery24sf100datanodes6\n",
      "SingleQuery23sf100datanodes6\n",
      "SingleQuery25sf100datanodes6\n",
      "SingleQuery2sf100datanodes6\n",
      "SingleQuery30sf100datanodes6\n",
      "SingleQuery18sf100datanodes6\n",
      "SingleQuery8sf100datanodes6\n",
      "SingleQuery11sf100datanodes6\n",
      "SingleQuery13sf100datanodes6\n",
      "SingleQuery17sf100datanodes6\n",
      "SingleQuery20sf100datanodes6\n",
      "SingleQuery1sf100datanodes6\n",
      "SingleQuery29sf100datanodes6\n",
      "SingleQuery3sf100datanodes6\n",
      "SingleQuery9sf100datanodes6\n",
      "SingleQuery21sf100datanodes6\n",
      "SingleQuery27sf100datanodes6\n",
      "SingleQuery22sf100datanodes6\n",
      "SingleQuery14sf100datanodes6\n",
      "SingleQuery19sf100datanodes6\n",
      "SingleQuery15sf100datanodes6\n",
      "SingleQuery28sf100datanodes6\n",
      "SingleQuery26sf100datanodes6\n",
      "SingleQuery5sf100datanodes6\n",
      "SingleQuery7sf100datanodes6\n",
      "SingleQuery4sf100datanodes6\n",
      "SingleQuery6sf100datanodes6\n",
      "SingleQuery16sf100datanodes6\n",
      "SingleQuery12sf100datanodes6\n",
      "SingleQuery10sf100datanodes6\n"
     ]
    }
   ],
   "source": [
    "filenames = glob.glob(\"/home/tpc/artifacts/*patResults/instruments/NET.csv\")\n",
    "list_of_dfs = [pd.read_csv(filename) for filename in filenames]\n",
    "fileNamDict = {}\n",
    "for eachfile in filenames:\n",
    "    fileNamDict[eachfile] = filenameGen(eachfile)\n",
    "    print(filenameGen(eachfile))"
   ]
  },
  {
   "cell_type": "code",
   "execution_count": 19,
   "metadata": {},
   "outputs": [
    {
     "name": "stderr",
     "output_type": "stream",
     "text": [
      "/home/tpc/hs/anaconda2/lib/python2.7/site-packages/ipykernel_launcher.py:12: SettingWithCopyWarning: \n",
      "A value is trying to be set on a copy of a slice from a DataFrame.\n",
      "Try using .loc[row_indexer,col_indexer] = value instead\n",
      "\n",
      "See the caveats in the documentation: http://pandas.pydata.org/pandas-docs/stable/indexing.html#indexing-view-versus-copy\n",
      "  if sys.path[0] == '':\n",
      "/home/tpc/hs/anaconda2/lib/python2.7/site-packages/ipykernel_launcher.py:14: SettingWithCopyWarning: \n",
      "A value is trying to be set on a copy of a slice from a DataFrame\n",
      "\n",
      "See the caveats in the documentation: http://pandas.pydata.org/pandas-docs/stable/indexing.html#indexing-view-versus-copy\n",
      "  \n",
      "/home/tpc/hs/anaconda2/lib/python2.7/site-packages/ipykernel_launcher.py:15: SettingWithCopyWarning: \n",
      "A value is trying to be set on a copy of a slice from a DataFrame.\n",
      "Try using .loc[row_indexer,col_indexer] = value instead\n",
      "\n",
      "See the caveats in the documentation: http://pandas.pydata.org/pandas-docs/stable/indexing.html#indexing-view-versus-copy\n",
      "  from ipykernel import kernelapp as app\n"
     ]
    }
   ],
   "source": [
    "filenames = glob.glob(\"/home/tpc/artifacts/*patResults/instruments/NET.csv\")\n",
    "list_of_dfs = [pd.read_csv(filename) for filename in filenames]\n",
    "\n",
    "fileNamDict = {}\n",
    "for eachfile in filenames:\n",
    "    fileNamDict[eachfile] = filenameGen(eachfile)\n",
    "    \n",
    "finDatasetCnt = OrderedDict()\n",
    "finDatasetMean = OrderedDict()\n",
    "finDatasetStd = OrderedDict()\n",
    "finDatasetMin = OrderedDict()\n",
    "finDataset25Per = OrderedDict()\n",
    "finDataset50Per = OrderedDict()\n",
    "finDataset75Per = OrderedDict()\n",
    "finDatasetMax = OrderedDict()\n",
    "\n",
    "\n",
    "for dataframe, querName in zip(list_of_dfs, filenames):\n",
    "    Query = filenameGen(querName)\n",
    "    finDatasetMean[Query] = processDf(dataframe,\"mean\") \n",
    "    '''finDataset[Query] = processDf(dataframe) \n",
    "    finDatasetCnt[Query] = processDf(dataframe,\"count\")\n",
    "    finDatasetStd[Query] = processDf(dataframe,\"std\") \n",
    "    finDatasetMin[Query] = processDf(dataframe,\"min\") \n",
    "    finDataset25Per[Query] = processDf(dataframe,\"25%\") \n",
    "    finDataset50Per[Query] = processDf(dataframe,\"50%\") \n",
    "    finDataset75Per[Query] = processDf(dataframe,\"75%\") \n",
    "    finDatasetMax[Query] = processDf(dataframe,\"max\") \n",
    "    '''\n",
    "    "
   ]
  },
  {
   "cell_type": "code",
   "execution_count": 21,
   "metadata": {},
   "outputs": [],
   "source": [
    "'''df_Cnt = pd.DataFrame(finDatasetCnt)\n",
    "df_Std = pd.DataFrame(finDatasetStd)\n",
    "df_Min = pd.DataFrame(finDatasetMin)\n",
    "df_25Per = pd.DataFrame(finDataset25Per)\n",
    "df_50Per = pd.DataFrame(finDataset50Per)\n",
    "df_75Per = pd.DataFrame(finDataset75Per)\n",
    "df_Max = pd.DataFrame(finDatasetMax) \n",
    "'''\n",
    "df_Mean = pd.DataFrame(finDatasetMean)"
   ]
  },
  {
   "cell_type": "code",
   "execution_count": 24,
   "metadata": {},
   "outputs": [],
   "source": [
    "'''df_Mean.to_csv(\"./SingleQuery_NETmean.csv\")\n",
    "df_Std.to_csv(\"./SingleQuery_NETStd.csv\")\n",
    "df_Min.to_csv(\"./SingleQuery_NETmin.csv\")\n",
    "df_25Per.to_csv(\"./SingleQuery_NET25%.csv\")\n",
    "df_50Per.to_csv(\"./SingleQuery_NET50%.csv\")\n",
    "df_75Per.to_csv(\"./SingleQuery_NET75%.csv\")\n",
    "df_Max.to_csv(\"./SingleQuery_NETmax.csv\")\n",
    "'''\n",
    "df_Mean[num_cols].to_csv(\"./SingleQuery_all30_NETmean.csv\")"
   ]
  },
  {
   "cell_type": "code",
   "execution_count": 23,
   "metadata": {},
   "outputs": [
    {
     "data": {
      "text/plain": [
       "Text(0.5,0,'Hive Queries - 100 SF and 6 datanodes')"
      ]
     },
     "execution_count": 23,
     "metadata": {},
     "output_type": "execute_result"
    },
    {
     "data": {
      "image/png": "[encoded data removed]",
      "text/plain": [
       "<Figure size 432x288 with 1 Axes>"
      ]
     },
     "metadata": {
      "needs_background": "light"
     },
     "output_type": "display_data"
    }
   ],
   "source": [
    "num_cols = ['SingleQuery1sf100datanodes6','SingleQuery2sf100datanodes6','SingleQuery3sf100datanodes6','SingleQuery4sf100datanodes6','SingleQuery5sf100datanodes6','SingleQuery6sf100datanodes6','SingleQuery7sf100datanodes6','SingleQuery8sf100datanodes6','SingleQuery9sf100datanodes6','SingleQuery10sf100datanodes6','SingleQuery11sf100datanodes6','SingleQuery12sf100datanodes6','SingleQuery13sf100datanodes6','SingleQuery14sf100datanodes6','SingleQuery15sf100datanodes6','SingleQuery16sf100datanodes6','SingleQuery17sf100datanodes6','SingleQuery18sf100datanodes6','SingleQuery19sf100datanodes6','SingleQuery20sf100datanodes6','SingleQuery21sf100datanodes6','SingleQuery22sf100datanodes6','SingleQuery23sf100datanodes6','SingleQuery24sf100datanodes6','SingleQuery25sf100datanodes6','SingleQuery26sf100datanodes6','SingleQuery27sf100datanodes6','SingleQuery28sf100datanodes6','SingleQuery29sf100datanodes6','SingleQuery30sf100datanodes6']\n",
    "#ax.set_title('Standard Deviation CPU utilization of difference TPCxBB Queries')\n",
    "#ax.set_xlabel(\"Hive Query Numbers\")\n",
    "#ax.set_xlabel(\"standard deviation: CPU utilization of Hive Queries - 100 SF and 6 datanodes\")\n",
    "fig, ax = plt.subplots()\n",
    "ax.boxplot(df_Mean[num_cols].values)\n",
    "ax.set_xticklabels(num_cols, rotation=80)\n",
    "ax.set_xlim(0,30)\n",
    "ax.set_ylim(0,15)\n",
    "ax.set_title('Mean Network utilizationHive Queries - 100 SF and 6 datanodes\"')\n",
    "ax.set_xlabel(\"Hive Queries - 100 SF and 6 datanodes\")"
   ]
  },
  {
   "cell_type": "code",
   "execution_count": null,
   "metadata": {},
   "outputs": [],
   "source": []
  }
 ],
 "metadata": {
  "kernelspec": {
   "display_name": "Python 2",
   "language": "python",
   "name": "python2"
  },
  "language_info": {
   "codemirror_mode": {
    "name": "ipython",
    "version": 2
   },
   "file_extension": ".py",
   "mimetype": "text/x-python",
   "name": "python",
   "nbconvert_exporter": "python",
   "pygments_lexer": "ipython2",
   "version": "2.7.16"
  }
 },
 "nbformat": 4,
 "nbformat_minor": 2
}
